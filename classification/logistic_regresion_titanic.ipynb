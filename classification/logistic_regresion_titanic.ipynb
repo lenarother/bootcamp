{
 "cells": [
  {
   "cell_type": "code",
   "execution_count": 1,
   "id": "7019d284",
   "metadata": {},
   "outputs": [],
   "source": [
    "import random\n",
    "\n",
    "import numpy as ns\n",
    "import pandas as pd\n",
    "\n",
    "from matplotlib import pyplot as plt\n",
    "import seaborn as sns\n",
    "\n",
    "from sklearn.datasets import make_moons\n",
    "from sklearn.dummy import DummyClassifier\n",
    "from sklearn.linear_model import LogisticRegression\n",
    "from sklearn.metrics import (\n",
    "    accuracy_score,\n",
    "    confusion_matrix,\n",
    "    plot_confusion_matrix,\n",
    "    plot_roc_curve,\n",
    "    precision_score,\n",
    "    recall_score,\n",
    "    roc_curve,\n",
    ")\n",
    "from sklearn.model_selection import train_test_split\n",
    "\n",
    "import statsmodels.discrete.discrete_model as sm\n"
   ]
  },
  {
   "cell_type": "markdown",
   "id": "8d79b66a",
   "metadata": {},
   "source": [
    "# Logistic regresion"
   ]
  },
  {
   "cell_type": "markdown",
   "id": "d665b640",
   "metadata": {},
   "source": [
    "\\begin{equation*}\n",
    "\\hat{p}=\\frac{1}{1 + e^{-(\\hat{w_{0}} + \\hat{w_{1}} * x_{1})...}}\n",
    "\\end{equation*}"
   ]
  },
  {
   "cell_type": "markdown",
   "id": "d19e8450",
   "metadata": {},
   "source": [
    "### Prepare dataset"
   ]
  },
  {
   "cell_type": "code",
   "execution_count": 2,
   "id": "4c750c8e",
   "metadata": {},
   "outputs": [
    {
     "data": {
      "text/plain": [
       "(891, 11)"
      ]
     },
     "execution_count": 2,
     "metadata": {},
     "output_type": "execute_result"
    }
   ],
   "source": [
    "df = pd.read_csv('input_data/train.csv', index_col=0)\n",
    "\n",
    "# Check dataset size\n",
    "df.shape"
   ]
  },
  {
   "cell_type": "code",
   "execution_count": 3,
   "id": "743710cd",
   "metadata": {},
   "outputs": [
    {
     "data": {
      "text/html": [
       "<div>\n",
       "<style scoped>\n",
       "    .dataframe tbody tr th:only-of-type {\n",
       "        vertical-align: middle;\n",
       "    }\n",
       "\n",
       "    .dataframe tbody tr th {\n",
       "        vertical-align: top;\n",
       "    }\n",
       "\n",
       "    .dataframe thead th {\n",
       "        text-align: right;\n",
       "    }\n",
       "</style>\n",
       "<table border=\"1\" class=\"dataframe\">\n",
       "  <thead>\n",
       "    <tr style=\"text-align: right;\">\n",
       "      <th></th>\n",
       "      <th>Survived</th>\n",
       "      <th>Pclass</th>\n",
       "      <th>Name</th>\n",
       "      <th>Sex</th>\n",
       "      <th>Age</th>\n",
       "      <th>SibSp</th>\n",
       "      <th>Parch</th>\n",
       "      <th>Ticket</th>\n",
       "      <th>Fare</th>\n",
       "      <th>Cabin</th>\n",
       "      <th>Embarked</th>\n",
       "    </tr>\n",
       "    <tr>\n",
       "      <th>PassengerId</th>\n",
       "      <th></th>\n",
       "      <th></th>\n",
       "      <th></th>\n",
       "      <th></th>\n",
       "      <th></th>\n",
       "      <th></th>\n",
       "      <th></th>\n",
       "      <th></th>\n",
       "      <th></th>\n",
       "      <th></th>\n",
       "      <th></th>\n",
       "    </tr>\n",
       "  </thead>\n",
       "  <tbody>\n",
       "    <tr>\n",
       "      <th>1</th>\n",
       "      <td>0</td>\n",
       "      <td>3</td>\n",
       "      <td>Braund, Mr. Owen Harris</td>\n",
       "      <td>male</td>\n",
       "      <td>22.0</td>\n",
       "      <td>1</td>\n",
       "      <td>0</td>\n",
       "      <td>A/5 21171</td>\n",
       "      <td>7.2500</td>\n",
       "      <td>NaN</td>\n",
       "      <td>S</td>\n",
       "    </tr>\n",
       "    <tr>\n",
       "      <th>2</th>\n",
       "      <td>1</td>\n",
       "      <td>1</td>\n",
       "      <td>Cumings, Mrs. John Bradley (Florence Briggs Th...</td>\n",
       "      <td>female</td>\n",
       "      <td>38.0</td>\n",
       "      <td>1</td>\n",
       "      <td>0</td>\n",
       "      <td>PC 17599</td>\n",
       "      <td>71.2833</td>\n",
       "      <td>C85</td>\n",
       "      <td>C</td>\n",
       "    </tr>\n",
       "    <tr>\n",
       "      <th>3</th>\n",
       "      <td>1</td>\n",
       "      <td>3</td>\n",
       "      <td>Heikkinen, Miss. Laina</td>\n",
       "      <td>female</td>\n",
       "      <td>26.0</td>\n",
       "      <td>0</td>\n",
       "      <td>0</td>\n",
       "      <td>STON/O2. 3101282</td>\n",
       "      <td>7.9250</td>\n",
       "      <td>NaN</td>\n",
       "      <td>S</td>\n",
       "    </tr>\n",
       "  </tbody>\n",
       "</table>\n",
       "</div>"
      ],
      "text/plain": [
       "             Survived  Pclass  \\\n",
       "PassengerId                     \n",
       "1                   0       3   \n",
       "2                   1       1   \n",
       "3                   1       3   \n",
       "\n",
       "                                                          Name     Sex   Age  \\\n",
       "PassengerId                                                                    \n",
       "1                                      Braund, Mr. Owen Harris    male  22.0   \n",
       "2            Cumings, Mrs. John Bradley (Florence Briggs Th...  female  38.0   \n",
       "3                                       Heikkinen, Miss. Laina  female  26.0   \n",
       "\n",
       "             SibSp  Parch            Ticket     Fare Cabin Embarked  \n",
       "PassengerId                                                          \n",
       "1                1      0         A/5 21171   7.2500   NaN        S  \n",
       "2                1      0          PC 17599  71.2833   C85        C  \n",
       "3                0      0  STON/O2. 3101282   7.9250   NaN        S  "
      ]
     },
     "execution_count": 3,
     "metadata": {},
     "output_type": "execute_result"
    }
   ],
   "source": [
    "# Show some data\n",
    "df.head(3)"
   ]
  },
  {
   "cell_type": "code",
   "execution_count": 4,
   "id": "0e055df2",
   "metadata": {},
   "outputs": [
    {
     "data": {
      "text/html": [
       "<div>\n",
       "<style scoped>\n",
       "    .dataframe tbody tr th:only-of-type {\n",
       "        vertical-align: middle;\n",
       "    }\n",
       "\n",
       "    .dataframe tbody tr th {\n",
       "        vertical-align: top;\n",
       "    }\n",
       "\n",
       "    .dataframe thead th {\n",
       "        text-align: right;\n",
       "    }\n",
       "</style>\n",
       "<table border=\"1\" class=\"dataframe\">\n",
       "  <thead>\n",
       "    <tr style=\"text-align: right;\">\n",
       "      <th></th>\n",
       "      <th>Survived</th>\n",
       "      <th>Pclass</th>\n",
       "      <th>Name</th>\n",
       "      <th>Sex</th>\n",
       "      <th>Age</th>\n",
       "      <th>SibSp</th>\n",
       "      <th>Parch</th>\n",
       "      <th>Ticket</th>\n",
       "      <th>Fare</th>\n",
       "      <th>Cabin</th>\n",
       "      <th>Embarked</th>\n",
       "    </tr>\n",
       "  </thead>\n",
       "  <tbody>\n",
       "    <tr>\n",
       "      <th>nunique</th>\n",
       "      <td>2</td>\n",
       "      <td>3</td>\n",
       "      <td>891</td>\n",
       "      <td>2</td>\n",
       "      <td>88</td>\n",
       "      <td>7</td>\n",
       "      <td>7</td>\n",
       "      <td>681</td>\n",
       "      <td>248</td>\n",
       "      <td>147</td>\n",
       "      <td>3</td>\n",
       "    </tr>\n",
       "  </tbody>\n",
       "</table>\n",
       "</div>"
      ],
      "text/plain": [
       "         Survived  Pclass  Name  Sex  Age  SibSp  Parch  Ticket  Fare  Cabin  \\\n",
       "nunique         2       3   891    2   88      7      7     681   248    147   \n",
       "\n",
       "         Embarked  \n",
       "nunique         3  "
      ]
     },
     "execution_count": 4,
     "metadata": {},
     "output_type": "execute_result"
    }
   ],
   "source": [
    "# Check unique data count\n",
    "df.agg(['nunique'])"
   ]
  },
  {
   "cell_type": "code",
   "execution_count": 5,
   "id": "d949496c",
   "metadata": {},
   "outputs": [
    {
     "data": {
      "text/plain": [
       "Survived      0\n",
       "Pclass        0\n",
       "Name          0\n",
       "Sex           0\n",
       "Age         177\n",
       "SibSp         0\n",
       "Parch         0\n",
       "Ticket        0\n",
       "Fare          0\n",
       "Cabin       687\n",
       "Embarked      2\n",
       "dtype: int64"
      ]
     },
     "execution_count": 5,
     "metadata": {},
     "output_type": "execute_result"
    }
   ],
   "source": [
    "# Check NaN\n",
    "df.isnull().sum()"
   ]
  },
  {
   "cell_type": "code",
   "execution_count": 6,
   "id": "d28de16e",
   "metadata": {},
   "outputs": [],
   "source": [
    "# Drop not needed columns\n",
    "# Name, Ticket ---> unique values\n",
    "# Cabin        ---> too much missing data\n",
    "df = df.drop(columns=['Name', 'Cabin', 'Ticket'])"
   ]
  },
  {
   "cell_type": "code",
   "execution_count": 7,
   "id": "9680ff35",
   "metadata": {},
   "outputs": [],
   "source": [
    "# Fill in missing data\n",
    "# Age      ---> use mediane\n",
    "# Embarked ---> use random value\n",
    "df['Age'] = df['Age'].fillna(df.groupby('Sex')['Age'].transform('median'))\n",
    "df['Embarked'] = df['Embarked'].fillna(random.choice(df['Embarked'].unique()))"
   ]
  },
  {
   "cell_type": "code",
   "execution_count": 8,
   "id": "0d8f890e",
   "metadata": {},
   "outputs": [],
   "source": [
    "# Change text data to numeric\n",
    "# df['Sex_num'] = df['Sex'].replace(['female', 'male'], [0, 1])\n",
    "# df['Embarked_num'] = df['Embarked'].replace(['S', 'C', 'Q'], [0, 1, 2])\n",
    "df = pd.concat([df, pd.get_dummies(df['Embarked'])], axis=1)\n",
    "df = pd.concat([df, pd.get_dummies(df['Sex'])], axis=1)"
   ]
  },
  {
   "cell_type": "code",
   "execution_count": 9,
   "id": "f85d6295",
   "metadata": {},
   "outputs": [],
   "source": [
    "# Add bias column\n",
    "df['Bias'] = 1"
   ]
  },
  {
   "cell_type": "markdown",
   "id": "c67e48fc",
   "metadata": {},
   "source": [
    "### Prepare train and test set"
   ]
  },
  {
   "cell_type": "code",
   "execution_count": 10,
   "id": "fd644f54",
   "metadata": {},
   "outputs": [],
   "source": [
    "# Prepare train and test data\n",
    "X_train, X_test, y_train, y_test = train_test_split(\n",
    "    df[['Pclass', 'female', 'Age', 'SibSp', 'Parch', 'Fare', 'C', 'Q', 'S', 'Bias']],\n",
    "    df['Survived'], \n",
    "    test_size=0.25,\n",
    "    random_state=42,\n",
    ")\n",
    "\n",
    "def get_X(column_names):\n",
    "    return X_train[column_names], X_test[column_names]\n",
    "\n",
    "\n",
    "MODELS = [\n",
    "    ['Bias', 'Pclass', 'female', 'Age', 'SibSp', 'Parch', 'Fare', 'C', 'Q', 'S'],\n",
    "    ['Bias', 'Pclass', 'female', 'Age', 'SibSp', 'Parch'],\n",
    "    ['Bias', 'Pclass', 'female', 'Age'],\n",
    "    ['Bias', 'Pclass'],\n",
    "    ['Bias', 'female'],\n",
    "    ['Bias', 'Age'],\n",
    "    ['Bias', 'SibSp'],\n",
    "    ['Bias', 'Parch'],\n",
    "    ['Bias', 'Fare'],\n",
    "    ['Bias', 'C', 'Q', 'S'],     \n",
    "]\n"
   ]
  },
  {
   "cell_type": "markdown",
   "id": "b5bba2e0",
   "metadata": {},
   "source": [
    "### Fit with statsmodels"
   ]
  },
  {
   "cell_type": "code",
   "execution_count": 11,
   "id": "cf8aa0a6",
   "metadata": {},
   "outputs": [
    {
     "name": "stdout",
     "output_type": "stream",
     "text": [
      "Predict based on: Bias - Pclass - female - Age - SibSp - Parch - Fare - C - Q - S\n",
      "\n",
      "\n",
      "Optimization terminated successfully.\n",
      "         Current function value: 0.448227\n",
      "         Iterations 6\n",
      "Accuracy score train 0.7994011976047904; Recall train score 0.9525691699604744\n",
      "Acc test 0.8071748878923767; Recall test score 0.9525691699604744\n",
      "--------------------\n",
      "\n",
      "\n",
      "Predict based on: Bias - Pclass - female - Age - SibSp - Parch\n",
      "\n",
      "\n",
      "Optimization terminated successfully.\n",
      "         Current function value: 0.452413\n",
      "         Iterations 6\n",
      "Accuracy score train 0.7829341317365269; Recall train score 0.9486166007905138\n",
      "Acc test 0.8161434977578476; Recall test score 0.9486166007905138\n",
      "--------------------\n",
      "\n",
      "\n",
      "Predict based on: Bias - Pclass - female - Age\n",
      "\n",
      "\n",
      "Optimization terminated successfully.\n",
      "         Current function value: 0.459984\n",
      "         Iterations 6\n",
      "Accuracy score train 0.7964071856287425; Recall train score 0.924901185770751\n",
      "Acc test 0.7982062780269058; Recall test score 0.924901185770751\n",
      "--------------------\n",
      "\n",
      "\n",
      "Predict based on: Bias - Pclass\n",
      "\n",
      "\n",
      "Optimization terminated successfully.\n",
      "         Current function value: 0.612257\n",
      "         Iterations 5\n",
      "Accuracy score train 0.6721556886227545; Recall train score 1.0\n",
      "Acc test 0.6995515695067265; Recall test score 1.0\n",
      "--------------------\n",
      "\n",
      "\n",
      "Predict based on: Bias - female\n",
      "\n",
      "\n",
      "Optimization terminated successfully.\n",
      "         Current function value: 0.514249\n",
      "         Iterations 5\n",
      "Accuracy score train 0.7874251497005988; Recall train score 1.0\n",
      "Acc test 0.7847533632286996; Recall test score 1.0\n",
      "--------------------\n",
      "\n",
      "\n",
      "Predict based on: Bias - Age\n",
      "\n",
      "\n",
      "Optimization terminated successfully.\n",
      "         Current function value: 0.661311\n",
      "         Iterations 4\n",
      "Accuracy score train 0.6212574850299402; Recall train score 1.0\n",
      "Acc test 0.600896860986547; Recall test score 1.0\n",
      "--------------------\n",
      "\n",
      "\n",
      "Predict based on: Bias - SibSp\n",
      "\n",
      "\n",
      "Optimization terminated successfully.\n",
      "         Current function value: 0.662532\n",
      "         Iterations 4\n",
      "Accuracy score train 0.6212574850299402; Recall train score 1.0\n",
      "Acc test 0.600896860986547; Recall test score 1.0\n",
      "--------------------\n",
      "\n",
      "\n",
      "Predict based on: Bias - Parch\n",
      "\n",
      "\n",
      "Optimization terminated successfully.\n",
      "         Current function value: 0.660587\n",
      "         Iterations 4\n",
      "Accuracy score train 0.6152694610778443; Recall train score 1.0\n",
      "Acc test 0.5874439461883408; Recall test score 1.0\n",
      "--------------------\n",
      "\n",
      "\n",
      "Predict based on: Bias - Fare\n",
      "\n",
      "\n",
      "Optimization terminated successfully.\n",
      "         Current function value: 0.625604\n",
      "         Iterations 6\n",
      "Accuracy score train 0.6661676646706587; Recall train score 1.0\n",
      "Acc test 0.6636771300448431; Recall test score 1.0\n",
      "--------------------\n",
      "\n",
      "\n",
      "Predict based on: Bias - C - Q - S\n",
      "\n",
      "\n",
      "Optimization terminated successfully.\n",
      "         Current function value: 0.649340\n",
      "         Iterations 11\n",
      "Accuracy score train 0.6407185628742516; Recall train score 1.0\n",
      "Acc test 0.6233183856502242; Recall test score 1.0\n",
      "--------------------\n",
      "\n",
      "\n"
     ]
    }
   ],
   "source": [
    "# accuracy_score ---> evaluates prediction\n",
    "# recall_score   ---> evaluates finding positive values \n",
    "\n",
    "\n",
    "def fit_model(columns):\n",
    "    print(f'Predict based on: {\" - \".join(columns)}')\n",
    "    print('\\n')\n",
    "    \n",
    "    X_train, X_test = get_X(columns)\n",
    "    logit = sm.Logit(y_train, X_train, max_iter=10_000)\n",
    "    f = logit.fit()\n",
    "    \n",
    "    y_train_pred = f.predict(X_train)\n",
    "    acc_train = accuracy_score(\n",
    "        y_true=y_train,\n",
    "        y_pred=y_train_pred.apply(lambda x: 1 if x > 0.5 else 0)\n",
    "    )\n",
    "    rec_train = recall_score(\n",
    "        y_true=y_train,\n",
    "        y_pred=y_train_pred.apply(lambda x: 1 if x > 0.1 else 0)\n",
    "    )\n",
    "    \n",
    "    y_test_pred = f.predict(X_test)\n",
    "    acc_test = accuracy_score(\n",
    "        y_true=y_test,\n",
    "        y_pred=y_test_pred.apply(lambda x: 1 if x > 0.5 else 0)\n",
    "    )\n",
    "    rec_test = recall_score(\n",
    "        y_true=y_train,\n",
    "        y_pred=y_train_pred.apply(lambda x: 1 if x > 0.1 else 0)\n",
    "    )\n",
    "    \n",
    "    # print(f.params)\n",
    "    # print(f.summary())\n",
    "    # print('\\n')\n",
    "    print(f'Accuracy score train {acc_train}; Recall train score {rec_train}')\n",
    "    print(f'Acc test {acc_test}; Recall test score {rec_test}')\n",
    "    print('-' * 20)\n",
    "    print('\\n')\n",
    "\n",
    "    \n",
    "for model in MODELS:\n",
    "    fit_model(model)\n"
   ]
  },
  {
   "cell_type": "markdown",
   "id": "9dc6c0bc",
   "metadata": {},
   "source": [
    "### Fit with sklearn"
   ]
  },
  {
   "cell_type": "code",
   "execution_count": 12,
   "id": "44d72417",
   "metadata": {},
   "outputs": [
    {
     "name": "stdout",
     "output_type": "stream",
     "text": [
      "Predict based on: Bias - Pclass - female - Age - SibSp - Parch - Fare - C - Q - S\n",
      "Acc train 0.7994011976047904\n",
      "Acc test 0.8071748878923767\n",
      "--------------------\n",
      "\n",
      "\n",
      "Predict based on: Bias - Pclass - female - Age - SibSp - Parch\n",
      "Acc train 0.7829341317365269\n",
      "Acc test 0.8161434977578476\n",
      "--------------------\n",
      "\n",
      "\n",
      "Predict based on: Bias - Pclass - female - Age\n",
      "Acc train 0.7964071856287425\n",
      "Acc test 0.7982062780269058\n",
      "--------------------\n",
      "\n",
      "\n",
      "Predict based on: Bias - Pclass\n",
      "Acc train 0.6721556886227545\n",
      "Acc test 0.6995515695067265\n",
      "--------------------\n",
      "\n",
      "\n",
      "Predict based on: Bias - female\n",
      "Acc train 0.7874251497005988\n",
      "Acc test 0.7847533632286996\n",
      "--------------------\n",
      "\n",
      "\n",
      "Predict based on: Bias - Age\n",
      "Acc train 0.6212574850299402\n",
      "Acc test 0.600896860986547\n",
      "--------------------\n",
      "\n",
      "\n",
      "Predict based on: Bias - SibSp\n",
      "Acc train 0.6212574850299402\n",
      "Acc test 0.600896860986547\n",
      "--------------------\n",
      "\n",
      "\n",
      "Predict based on: Bias - Parch\n",
      "Acc train 0.6152694610778443\n",
      "Acc test 0.5874439461883408\n",
      "--------------------\n",
      "\n",
      "\n",
      "Predict based on: Bias - Fare\n",
      "Acc train 0.6661676646706587\n",
      "Acc test 0.6636771300448431\n",
      "--------------------\n",
      "\n",
      "\n",
      "Predict based on: Bias - C - Q - S\n",
      "Acc train 0.6407185628742516\n",
      "Acc test 0.6233183856502242\n",
      "--------------------\n",
      "\n",
      "\n"
     ]
    }
   ],
   "source": [
    "def fit_model(columns):\n",
    "    print(f'Predict based on: {\" - \".join(columns)}')\n",
    "    \n",
    "    X_train, X_test = get_X(columns)\n",
    "    m = LogisticRegression(C=1e5, max_iter=10_000)\n",
    "    f = m.fit(X_train, y_train)\n",
    "    \n",
    "    y_train_pred = f.predict(X_train)\n",
    "    acc_train = accuracy_score(\n",
    "        y_true=y_train,\n",
    "        y_pred=y_train_pred\n",
    "    )\n",
    "    y_test_pred = f.predict(X_test)\n",
    "    acc_test = accuracy_score(\n",
    "        y_true=y_test,\n",
    "        y_pred=y_test_pred\n",
    "    )\n",
    "\n",
    "    print(f'Acc train {acc_train}')\n",
    "    print(f'Acc test {acc_test}')\n",
    "    print('-' * 20)\n",
    "    print('\\n')\n",
    "\n",
    "    \n",
    "for model in MODELS:\n",
    "    fit_model(model)\n"
   ]
  },
  {
   "cell_type": "markdown",
   "id": "fb650bee",
   "metadata": {},
   "source": [
    "### Evaluate prediction"
   ]
  },
  {
   "cell_type": "code",
   "execution_count": 13,
   "id": "7a467c5b",
   "metadata": {},
   "outputs": [],
   "source": [
    "X_train, X_test = get_X(['Bias', 'Pclass', 'female', 'Age', 'SibSp', 'Parch', 'Fare', 'C', 'Q', 'S'])\n",
    "m = LogisticRegression(C=1e5, max_iter=10_000)\n",
    "f = m.fit(X_train, y_train)\n",
    "    \n",
    "y_train_pred = f.predict(X_train)\n",
    "y_test_pred = f.predict(X_test)\n"
   ]
  },
  {
   "cell_type": "code",
   "execution_count": 14,
   "id": "bf601cce",
   "metadata": {},
   "outputs": [
    {
     "name": "stdout",
     "output_type": "stream",
     "text": [
      "[[115  19]\n",
      " [ 24  65]]\n"
     ]
    },
    {
     "data": {
      "text/plain": [
       "<sklearn.metrics._plot.confusion_matrix.ConfusionMatrixDisplay at 0x109af74e0>"
      ]
     },
     "execution_count": 14,
     "metadata": {},
     "output_type": "execute_result"
    },
    {
     "data": {
      "image/png": "[encoded data removed]",
      "text/plain": [
       "<Figure size 432x288 with 2 Axes>"
      ]
     },
     "metadata": {
      "needs_background": "light"
     },
     "output_type": "display_data"
    }
   ],
   "source": [
    "# Confusion matrix\n",
    "cm = confusion_matrix(\n",
    "    y_pred=y_test_pred,\n",
    "    y_true=y_test,\n",
    ")\n",
    "print(cm)\n",
    "\n",
    "plot_confusion_matrix(f, X_test, y_test, normalize=None)"
   ]
  },
  {
   "cell_type": "code",
   "execution_count": 15,
   "id": "f86eb007",
   "metadata": {},
   "outputs": [
    {
     "name": "stdout",
     "output_type": "stream",
     "text": [
      "Accuracy: 0.8071748878923767\n",
      "Precision: 0.7738095238095238\n",
      "Recall 0.7303370786516854\n",
      "\n"
     ]
    }
   ],
   "source": [
    "print(\n",
    "    f'Accuracy: {accuracy_score(y_pred=y_test_pred, y_true=y_test)}\\n'\n",
    "    f'Precision: {precision_score(y_pred=y_test_pred, y_true=y_test)}\\n'\n",
    "    f'Recall {recall_score(y_pred=y_test_pred, y_true=y_test)}\\n'\n",
    ")"
   ]
  },
  {
   "cell_type": "code",
   "execution_count": 16,
   "id": "b8ae8807",
   "metadata": {},
   "outputs": [
    {
     "name": "stdout",
     "output_type": "stream",
     "text": [
      "Accuracy: 0.49327354260089684\n",
      "Precision: 0.36046511627906974\n",
      "Recall 0.34831460674157305\n",
      "\n"
     ]
    }
   ],
   "source": [
    "# DummyClassifier - stratified (based on distribution)\n",
    "df = DummyClassifier(strategy='stratified')\n",
    "f = df.fit(X_train, y_train)\n",
    "y_dummy = f.predict(X_test)\n",
    "\n",
    "print(\n",
    "    f'Accuracy: {accuracy_score(y_pred=y_dummy, y_true=y_test)}\\n'\n",
    "    f'Precision: {precision_score(y_pred=y_dummy, y_true=y_test)}\\n'\n",
    "    f'Recall {recall_score(y_pred=y_dummy, y_true=y_test)}\\n'\n",
    ")"
   ]
  },
  {
   "cell_type": "code",
   "execution_count": 17,
   "id": "382cf00d",
   "metadata": {},
   "outputs": [
    {
     "name": "stdout",
     "output_type": "stream",
     "text": [
      "Accuracy: 0.4977578475336323\n",
      "Precision: 0.3838383838383838\n",
      "Recall 0.42696629213483145\n",
      "\n"
     ]
    }
   ],
   "source": [
    "# DummyClassifier - uniform (random)\n",
    "df = DummyClassifier(strategy='uniform')\n",
    "f = df.fit(X_train, y_train)\n",
    "y_dummy = f.predict(X_test)\n",
    "\n",
    "print(\n",
    "    f'Accuracy: {accuracy_score(y_pred=y_dummy, y_true=y_test)}\\n'\n",
    "    f'Precision: {precision_score(y_pred=y_dummy, y_true=y_test)}\\n'\n",
    "    f'Recall {recall_score(y_pred=y_dummy, y_true=y_test)}\\n'\n",
    ")"
   ]
  },
  {
   "cell_type": "code",
   "execution_count": 18,
   "id": "3a4cdce3",
   "metadata": {},
   "outputs": [
    {
     "name": "stdout",
     "output_type": "stream",
     "text": [
      "Accuracy: 0.600896860986547\n",
      "Precision: 1.0\n",
      "Recall 0.0\n",
      "\n"
     ]
    }
   ],
   "source": [
    "# DummyClassifier - prior (most frequent)\n",
    "df = DummyClassifier(strategy='prior')\n",
    "f = df.fit(X_train, y_train)\n",
    "y_dummy = f.predict(X_test)\n",
    "\n",
    "print(\n",
    "    f'Accuracy: {accuracy_score(y_pred=y_dummy, y_true=y_test)}\\n'\n",
    "    f'Precision: {precision_score(y_pred=y_dummy, y_true=y_test, zero_division=True)}\\n'\n",
    "    f'Recall {recall_score(y_pred=y_dummy, y_true=y_test)}\\n'\n",
    ")"
   ]
  },
  {
   "cell_type": "code",
   "execution_count": 19,
   "id": "763d6138",
   "metadata": {},
   "outputs": [
    {
     "name": "stdout",
     "output_type": "stream",
     "text": [
      "Optimization terminated successfully.\n",
      "         Current function value: 0.448227\n",
      "         Iterations 6\n"
     ]
    },
    {
     "data": {
      "text/plain": [
       "(0.0, 1.0, 0.0, 1.0)"
      ]
     },
     "execution_count": 19,
     "metadata": {},
     "output_type": "execute_result"
    },
    {
     "data": {
      "image/png": "[encoded data removed]",
      "text/plain": [
       "<Figure size 432x288 with 1 Axes>"
      ]
     },
     "metadata": {
      "needs_background": "light"
     },
     "output_type": "display_data"
    }
   ],
   "source": [
    "# WIP: ROC manual\n",
    "\n",
    "fpr = []\n",
    "tpr = []\n",
    "\n",
    "\n",
    "X_train, X_test = get_X(['Bias', 'Pclass', 'female', 'Age', 'SibSp', 'Parch', 'Fare', 'C', 'Q'])\n",
    "logit = sm.Logit(y_train, X_train, max_iter=10_000)\n",
    "f = logit.fit()\n",
    "    \n",
    "y_pred = f.predict(X_test)\n",
    "\n",
    "for thr in range(0, 101):\n",
    "    y_pred_thr = y_pred.apply(lambda x: 1 if x > (thr/100) else 0)\n",
    "    cm = confusion_matrix(\n",
    "        y_pred=y_pred_thr,\n",
    "        y_true=y_test        \n",
    "    )\n",
    "    fpr.append(cm[0][1]/(cm[0][0] + cm[0][1]))\n",
    "    tpr.append(cm[1][1]/(cm[1][1] + cm[1][0]))\n",
    "\n",
    "\n",
    "sns.lineplot(\n",
    "    y='tpr',\n",
    "    x='fpr',\n",
    "    data={\n",
    "        'tpr': tpr,        \n",
    "        'fpr': fpr, \n",
    "    }\n",
    ")\n",
    "plt.axis([0, 1, 0, 1])"
   ]
  },
  {
   "cell_type": "code",
   "execution_count": 20,
   "id": "09c49b30",
   "metadata": {},
   "outputs": [
    {
     "data": {
      "text/plain": [
       "<AxesSubplot:xlabel='fpr', ylabel='tpr'>"
      ]
     },
     "execution_count": 20,
     "metadata": {},
     "output_type": "execute_result"
    },
    {
     "data": {
      "image/png": "[encoded data removed]",
      "text/plain": [
       "<Figure size 432x288 with 1 Axes>"
      ]
     },
     "metadata": {
      "needs_background": "light"
     },
     "output_type": "display_data"
    }
   ],
   "source": [
    "myfpr, mytpr, mythr = roc_curve(\n",
    "    y_score=y_pred,\n",
    "    y_true=y_test,\n",
    ")\n",
    "\n",
    "sns.lineplot(\n",
    "    y='tpr',\n",
    "    x='fpr',\n",
    "    data={\n",
    "        'tpr': mytpr,        \n",
    "        'fpr': myfpr, \n",
    "    }\n",
    ")\n",
    "\n"
   ]
  },
  {
   "cell_type": "code",
   "execution_count": null,
   "id": "2e07c060",
   "metadata": {},
   "outputs": [],
   "source": []
  }
 ],
 "metadata": {
  "kernelspec": {
   "display_name": "Python 3",
   "language": "python",
   "name": "python3"
  },
  "language_info": {
   "codemirror_mode": {
    "name": "ipython",
    "version": 3
   },
   "file_extension": ".py",
   "mimetype": "text/x-python",
   "name": "python",
   "nbconvert_exporter": "python",
   "pygments_lexer": "ipython3",
   "version": "3.7.3"
  }
 },
 "nbformat": 4,
 "nbformat_minor": 5
}
