{
 "cells": [
  {
   "cell_type": "code",
   "execution_count": null,
   "id": "28d89e5a",
   "metadata": {},
   "outputs": [],
   "source": [
    "import pandas as pd\n",
    "import numpy as np\n",
    "\n",
    "from sklearn.base import BaseEstimator, TransformerMixin\n",
    "from sklearn.compose import ColumnTransformer\n",
    "from sklearn.experimental import enable_iterative_imputer\n",
    "from sklearn.impute import IterativeImputer, SimpleImputer\n",
    "from sklearn.linear_model import LogisticRegression\n",
    "from sklearn.model_selection import cross_val_score, train_test_split\n",
    "from sklearn.pipeline import make_pipeline, Pipeline\n",
    "from sklearn.preprocessing import (\n",
    "    FunctionTransformer,\n",
    "    KBinsDiscretizer,\n",
    "    MinMaxScaler,\n",
    "    OneHotEncoder,\n",
    ")"
   ]
  },
  {
   "cell_type": "code",
   "execution_count": null,
   "id": "33b6420d",
   "metadata": {},
   "outputs": [],
   "source": [
    "# read titanic data\n",
    "df = pd.read_csv('input_data/train.csv')\n",
    "df.head(2)"
   ]
  },
  {
   "cell_type": "code",
   "execution_count": null,
   "id": "bc8a18b2",
   "metadata": {},
   "outputs": [],
   "source": [
    "# devide data\n",
    "X_train, X_test, y_train, y_test = train_test_split(\n",
    "        df[['Pclass', 'Name', 'Sex', 'Age', 'SibSp', 'Parch', 'Ticket', 'Fare', 'Cabin', 'Embarked']],\n",
    "        df[['Survived']],\n",
    "        test_size=0.4685,\n",
    ")"
   ]
  },
  {
   "cell_type": "code",
   "execution_count": null,
   "id": "f005ed93",
   "metadata": {},
   "outputs": [],
   "source": [
    "def process_titanic_data(X_train):\n",
    "    # Fare\n",
    "    imputer = SimpleImputer(strategy='mean')\n",
    "    imputer.fit(X_train[['Fare']])\n",
    "    X_train['Fare'] = imputer.transform(X_train[['Fare']])\n",
    "    \n",
    "    # Sex - One Hot\n",
    "    one_hot = OneHotEncoder(sparse=False, drop='first')\n",
    "    one_hot.fit(X_train[['Sex']])\n",
    "    X_train['is_male'] = one_hot.transform(X_train[['Sex']])\n",
    "\n",
    "    # Age - Imput\n",
    "    iter_imp = IterativeImputer(initial_strategy='median', imputation_order='random')\n",
    "    iter_imp.fit(X_train[['Age', 'is_male']])\n",
    "    X_train['Age'] = iter_imp.transform(X_train[['Age', 'is_male']])\n",
    "\n",
    "    # Name - custom function transformer\n",
    "    name_length_transformer = FunctionTransformer(\n",
    "        lambda inpdf: inpdf[inpdf.columns[0]].str.len().values.reshape(-1, 1)\n",
    "    )\n",
    "\n",
    "    # SibSp Parch - sum, bins\n",
    "    X_train['family'] = X_train['SibSp'] + X_train['Parch']\n",
    "    discret = KBinsDiscretizer(n_bins=3, strategy='uniform')\n",
    "\n",
    "    # Deck\n",
    "    X_train['deck'] = X_train['Cabin'].apply(\n",
    "        lambda x: {'A': 1, 'B': 2, 'C': 3, 'D': 4, 'E': 5, 'F': 6, 'G': 7, 'T': 8}.get(x[0]) if isinstance(x, str) else x)\n",
    "    minmax = MinMaxScaler()\n",
    "    minmax.fit(X_train[['deck']])\n",
    "    X_train['discrete_deck'] = minmax.transform(X_train[['deck']])\n",
    "    iter_imp = IterativeImputer(initial_strategy='median', imputation_order='random')\n",
    "    iter_imp.fit(X_train[['discrete_deck', 'Fare']])\n",
    "    X_train['discrete_deck'] = iter_imp.transform(X_train[['discrete_deck', 'Fare']])\n",
    "\n",
    "    # Transform\n",
    "    transform_titanic = ColumnTransformer([\n",
    "        ('name_length', name_length_transformer, ['Name']),\n",
    "        ('price', minmax, ['Fare']),\n",
    "        ('family_size', discret, ['family']),\n",
    "        ('do_nothing', 'passthrough', ['Age', 'is_male', 'discrete_deck'])\n",
    "    ])\n",
    "    transform_titanic.fit(X_train)\n",
    "    return transform_titanic.transform(X_train)"
   ]
  },
  {
   "cell_type": "markdown",
   "id": "61171efa",
   "metadata": {},
   "source": [
    "### Cross validation"
   ]
  },
  {
   "cell_type": "code",
   "execution_count": null,
   "id": "22338190",
   "metadata": {},
   "outputs": [],
   "source": [
    "X_train_preprocessed_np = process_titanic_data(X_train)\n",
    "\n",
    "model = LogisticRegression(max_iter=100000)\n",
    "accuracy = cross_val_score(\n",
    "    model,\n",
    "    X_train_preprocessed_np,\n",
    "    y_train.values.ravel(),\n",
    "    cv=5,\n",
    "    scoring='accuracy',\n",
    ")\n",
    "accuracy"
   ]
  },
  {
   "cell_type": "code",
   "execution_count": null,
   "id": "dc1c5911",
   "metadata": {},
   "outputs": [],
   "source": [
    "model = LogisticRegression(max_iter=100000)\n",
    "precision = cross_val_score(\n",
    "    model,\n",
    "    X_train_preprocessed_np,\n",
    "    y_train.values.ravel(),\n",
    "    cv=5,\n",
    "    scoring='precision',\n",
    ")\n",
    "precision"
   ]
  },
  {
   "cell_type": "code",
   "execution_count": null,
   "id": "984af7d0",
   "metadata": {},
   "outputs": [],
   "source": [
    "X_train_preprocessed_np = process_titanic_data(X_train)\n",
    "X_test_preprocessed_np = process_titanic_data(X_test)\n",
    "\n",
    "model = LogisticRegression(C=1e5, max_iter=100000)\n",
    "f = model.fit(X_train_preprocessed_np, y_train.values.ravel())\n",
    "pred = model.predict(X_test_preprocessed_np)\n"
   ]
  },
  {
   "cell_type": "markdown",
   "id": "0d7e672b",
   "metadata": {},
   "source": [
    "### kaggle"
   ]
  },
  {
   "cell_type": "code",
   "execution_count": null,
   "id": "a850f8b3",
   "metadata": {},
   "outputs": [],
   "source": [
    "kaggle_X_train = pd.read_csv('input_data/train_kaggle.csv')\n",
    "kaggle_X_test = pd.read_csv('input_data/test_kaggle.csv')\n",
    "\n",
    "kaggle_X_train_preprocessed_np = process_titanic_data(kaggle_X_train)\n",
    "kaggle_y = pd.read_csv('input_data/train_kaggle.csv')[['Survived']]\n",
    "kaggle_X_test_preprocessed_np = process_titanic_data(kaggle_X_test)\n",
    "\n",
    "model = LogisticRegression(C=1e5, max_iter=100000)\n",
    "f = model.fit(kaggle_X_train_preprocessed_np, kaggle_y.values.ravel())\n",
    "pred = model.predict(kaggle_X_test_preprocessed_np)\n",
    "\n",
    "kaggle_X_test['Survived'] = pred\n",
    "result = kaggle_X_test[['PassengerId', 'Survived']].set_index('PassengerId')\n",
    "result.to_csv('output_data/kaggle_prediction.csv')\n"
   ]
  }
 ],
 "metadata": {
  "kernelspec": {
   "display_name": "Python 3",
   "language": "python",
   "name": "python3"
  },
  "language_info": {
   "codemirror_mode": {
    "name": "ipython",
    "version": 3
   },
   "file_extension": ".py",
   "mimetype": "text/x-python",
   "name": "python",
   "nbconvert_exporter": "python",
   "pygments_lexer": "ipython3",
   "version": "3.7.3"
  }
 },
 "nbformat": 4,
 "nbformat_minor": 5
}
