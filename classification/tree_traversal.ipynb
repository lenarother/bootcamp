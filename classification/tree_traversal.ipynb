{
 "cells": [
  {
   "cell_type": "markdown",
   "id": "62e56c3a",
   "metadata": {},
   "source": [
    "# Tree Traversal"
   ]
  },
  {
   "cell_type": "code",
   "execution_count": 12,
   "id": "a9f81154",
   "metadata": {},
   "outputs": [],
   "source": [
    "import time\n",
    "from copy import deepcopy"
   ]
  },
  {
   "cell_type": "markdown",
   "id": "0ed8aea1",
   "metadata": {},
   "source": [
    "Great comments:\n",
    "https://stackoverflow.com/questions/952914/how-to-make-a-flat-list-out-of-a-list-of-lists"
   ]
  },
  {
   "cell_type": "code",
   "execution_count": 13,
   "id": "3ac67ba1",
   "metadata": {},
   "outputs": [],
   "source": [
    "data = [\n",
    "    ['Rose', 'banana tree'],\n",
    "    [\n",
    "        [\n",
    "            ['hammerhead shark', 'stingray'],\n",
    "            [\n",
    "                ['chimp', 'human'],\n",
    "                'rat'\n",
    "            ]\n",
    "        ],\n",
    "        ['bee', 'ant']\n",
    "    ]\n",
    "]"
   ]
  },
  {
   "cell_type": "code",
   "execution_count": 14,
   "id": "420cd2d1",
   "metadata": {},
   "outputs": [
    {
     "name": "stdout",
     "output_type": "stream",
     "text": [
      "CPU times: user 77 µs, sys: 1 µs, total: 78 µs\n",
      "Wall time: 79.9 µs\n"
     ]
    },
    {
     "data": {
      "text/plain": [
       "['Rose',\n",
       " 'banana tree',\n",
       " 'hammerhead shark',\n",
       " 'stingray',\n",
       " 'chimp',\n",
       " 'human',\n",
       " 'rat',\n",
       " 'bee',\n",
       " 'ant']"
      ]
     },
     "execution_count": 14,
     "metadata": {},
     "output_type": "execute_result"
    }
   ],
   "source": [
    "%%time\n",
    "from pandas.core.common import flatten as pandas_flatten\n",
    "\n",
    "mydata = deepcopy(data)\n",
    "list(pandas_flatten(mydata))"
   ]
  },
  {
   "cell_type": "code",
   "execution_count": 15,
   "id": "17ad5d5a",
   "metadata": {},
   "outputs": [
    {
     "name": "stdout",
     "output_type": "stream",
     "text": [
      "CPU times: user 56 µs, sys: 1 µs, total: 57 µs\n",
      "Wall time: 59.8 µs\n"
     ]
    },
    {
     "data": {
      "text/plain": [
       "['Rose',\n",
       " 'banana tree',\n",
       " [['hammerhead shark', 'stingray'], [['chimp', 'human'], 'rat']],\n",
       " ['bee', 'ant']]"
      ]
     },
     "execution_count": 15,
     "metadata": {},
     "output_type": "execute_result"
    }
   ],
   "source": [
    "%%time\n",
    "from django.contrib.admin.utils import flatten as django_flatten\n",
    "\n",
    "mydata = deepcopy(data)\n",
    "\n",
    "list(django_flatten(mydata))"
   ]
  },
  {
   "cell_type": "code",
   "execution_count": 17,
   "id": "55fd9403",
   "metadata": {},
   "outputs": [
    {
     "name": "stdout",
     "output_type": "stream",
     "text": [
      "CPU times: user 57 µs, sys: 0 ns, total: 57 µs\n",
      "Wall time: 61.3 µs\n"
     ]
    },
    {
     "data": {
      "text/plain": [
       "['Rose',\n",
       " 'banana tree',\n",
       " 'hammerhead shark',\n",
       " 'stingray',\n",
       " 'chimp',\n",
       " 'human',\n",
       " 'rat',\n",
       " 'bee',\n",
       " 'ant']"
      ]
     },
     "execution_count": 17,
     "metadata": {},
     "output_type": "execute_result"
    }
   ],
   "source": [
    "%%time\n",
    "mydata = deepcopy(data)\n",
    "\n",
    "def custom_flatten(data, result=None):\n",
    "    if result is None:\n",
    "        result = []\n",
    "    for item in data:\n",
    "        if not isinstance(item, list):\n",
    "            result.append(item)\n",
    "        else:\n",
    "            custom_flatten(item, result)\n",
    "    return result\n",
    "\n",
    "custom_flatten(mydata)"
   ]
  },
  {
   "cell_type": "code",
   "execution_count": null,
   "id": "e6518583",
   "metadata": {},
   "outputs": [],
   "source": []
  }
 ],
 "metadata": {
  "kernelspec": {
   "display_name": "Python 3",
   "language": "python",
   "name": "python3"
  },
  "language_info": {
   "codemirror_mode": {
    "name": "ipython",
    "version": 3
   },
   "file_extension": ".py",
   "mimetype": "text/x-python",
   "name": "python",
   "nbconvert_exporter": "python",
   "pygments_lexer": "ipython3",
   "version": "3.9.1"
  }
 },
 "nbformat": 4,
 "nbformat_minor": 5
}
